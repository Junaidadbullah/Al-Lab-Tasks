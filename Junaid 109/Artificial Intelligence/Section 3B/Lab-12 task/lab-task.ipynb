{
 "cells": [
  {
   "cell_type": "markdown",
   "id": "7b6006cc",
   "metadata": {},
   "source": [
    "# Libraries"
   ]
  },
  {
   "cell_type": "code",
   "execution_count": null,
   "id": "588ca540",
   "metadata": {},
   "outputs": [],
   "source": [
    "import pandas as pd\n",
    "import numpy as np\n",
    "import pickle\n",
    "from sklearn.svm import SVC\n",
    "from sklearn.metrics import accuracy_score\n",
    "from sklearn.preprocessing import LabelEncoder\n",
    "from sklearn.model_selection import train_test_split\n"
   ]
  },
  {
   "cell_type": "code",
   "execution_count": 535,
   "id": "815bed8a",
   "metadata": {},
   "outputs": [
    {
     "data": {
      "text/html": [
       "<div>\n",
       "<style scoped>\n",
       "    .dataframe tbody tr th:only-of-type {\n",
       "        vertical-align: middle;\n",
       "    }\n",
       "\n",
       "    .dataframe tbody tr th {\n",
       "        vertical-align: top;\n",
       "    }\n",
       "\n",
       "    .dataframe thead th {\n",
       "        text-align: right;\n",
       "    }\n",
       "</style>\n",
       "<table border=\"1\" class=\"dataframe\">\n",
       "  <thead>\n",
       "    <tr style=\"text-align: right;\">\n",
       "      <th></th>\n",
       "      <th>date</th>\n",
       "      <th>price</th>\n",
       "      <th>bedrooms</th>\n",
       "      <th>bathrooms</th>\n",
       "      <th>sqft_living</th>\n",
       "      <th>sqft_lot</th>\n",
       "      <th>floors</th>\n",
       "      <th>waterfront</th>\n",
       "      <th>view</th>\n",
       "      <th>condition</th>\n",
       "      <th>sqft_above</th>\n",
       "      <th>sqft_basement</th>\n",
       "      <th>yr_built</th>\n",
       "      <th>yr_renovated</th>\n",
       "      <th>street</th>\n",
       "      <th>city</th>\n",
       "      <th>statezip</th>\n",
       "      <th>country</th>\n",
       "    </tr>\n",
       "  </thead>\n",
       "  <tbody>\n",
       "    <tr>\n",
       "      <th>0</th>\n",
       "      <td>5/2/2014 0:00</td>\n",
       "      <td>313000.0</td>\n",
       "      <td>3.0</td>\n",
       "      <td>1.5</td>\n",
       "      <td>1340.0</td>\n",
       "      <td>7912.0</td>\n",
       "      <td>1.5</td>\n",
       "      <td>0.0</td>\n",
       "      <td>0.0</td>\n",
       "      <td>3</td>\n",
       "      <td>1340.0</td>\n",
       "      <td>0.0</td>\n",
       "      <td>1955.0</td>\n",
       "      <td>2005</td>\n",
       "      <td>18810 Densmore Ave N</td>\n",
       "      <td>Shoreline</td>\n",
       "      <td>WA 98133</td>\n",
       "      <td>USA</td>\n",
       "    </tr>\n",
       "    <tr>\n",
       "      <th>1</th>\n",
       "      <td>5/2/2014 0:00</td>\n",
       "      <td>2384000.0</td>\n",
       "      <td>5.0</td>\n",
       "      <td>2.5</td>\n",
       "      <td>3650.0</td>\n",
       "      <td>9050.0</td>\n",
       "      <td>2.0</td>\n",
       "      <td>0.0</td>\n",
       "      <td>4.0</td>\n",
       "      <td>5</td>\n",
       "      <td>3370.0</td>\n",
       "      <td>280.0</td>\n",
       "      <td>1921.0</td>\n",
       "      <td>0</td>\n",
       "      <td>709 W Blaine St</td>\n",
       "      <td>Seattle</td>\n",
       "      <td>WA 98119</td>\n",
       "      <td>USA</td>\n",
       "    </tr>\n",
       "    <tr>\n",
       "      <th>...</th>\n",
       "      <td>...</td>\n",
       "      <td>...</td>\n",
       "      <td>...</td>\n",
       "      <td>...</td>\n",
       "      <td>...</td>\n",
       "      <td>...</td>\n",
       "      <td>...</td>\n",
       "      <td>...</td>\n",
       "      <td>...</td>\n",
       "      <td>...</td>\n",
       "      <td>...</td>\n",
       "      <td>...</td>\n",
       "      <td>...</td>\n",
       "      <td>...</td>\n",
       "      <td>...</td>\n",
       "      <td>...</td>\n",
       "      <td>...</td>\n",
       "      <td>...</td>\n",
       "    </tr>\n",
       "    <tr>\n",
       "      <th>4598</th>\n",
       "      <td>7/10/2014 0:00</td>\n",
       "      <td>203400.0</td>\n",
       "      <td>4.0</td>\n",
       "      <td>2.0</td>\n",
       "      <td>2090.0</td>\n",
       "      <td>6630.0</td>\n",
       "      <td>1.0</td>\n",
       "      <td>0.0</td>\n",
       "      <td>0.0</td>\n",
       "      <td>3</td>\n",
       "      <td>1070.0</td>\n",
       "      <td>1020.0</td>\n",
       "      <td>1974.0</td>\n",
       "      <td>0</td>\n",
       "      <td>5148 S Creston St</td>\n",
       "      <td>Seattle</td>\n",
       "      <td>WA 98178</td>\n",
       "      <td>USA</td>\n",
       "    </tr>\n",
       "    <tr>\n",
       "      <th>4599</th>\n",
       "      <td>7/10/2014 0:00</td>\n",
       "      <td>220600.0</td>\n",
       "      <td>3.0</td>\n",
       "      <td>2.5</td>\n",
       "      <td>1490.0</td>\n",
       "      <td>8102.0</td>\n",
       "      <td>2.0</td>\n",
       "      <td>0.0</td>\n",
       "      <td>0.0</td>\n",
       "      <td>4</td>\n",
       "      <td>1490.0</td>\n",
       "      <td>0.0</td>\n",
       "      <td>1990.0</td>\n",
       "      <td>0</td>\n",
       "      <td>18717 SE 258th St</td>\n",
       "      <td>Covington</td>\n",
       "      <td>WA 98042</td>\n",
       "      <td>USA</td>\n",
       "    </tr>\n",
       "  </tbody>\n",
       "</table>\n",
       "<p>4600 rows × 18 columns</p>\n",
       "</div>"
      ],
      "text/plain": [
       "                date      price  bedrooms  bathrooms  sqft_living  sqft_lot  \\\n",
       "0      5/2/2014 0:00   313000.0       3.0        1.5       1340.0    7912.0   \n",
       "1      5/2/2014 0:00  2384000.0       5.0        2.5       3650.0    9050.0   \n",
       "...              ...        ...       ...        ...          ...       ...   \n",
       "4598  7/10/2014 0:00   203400.0       4.0        2.0       2090.0    6630.0   \n",
       "4599  7/10/2014 0:00   220600.0       3.0        2.5       1490.0    8102.0   \n",
       "\n",
       "      floors  waterfront  view  condition  sqft_above  sqft_basement  \\\n",
       "0        1.5         0.0   0.0          3      1340.0            0.0   \n",
       "1        2.0         0.0   4.0          5      3370.0          280.0   \n",
       "...      ...         ...   ...        ...         ...            ...   \n",
       "4598     1.0         0.0   0.0          3      1070.0         1020.0   \n",
       "4599     2.0         0.0   0.0          4      1490.0            0.0   \n",
       "\n",
       "      yr_built  yr_renovated                street       city  statezip  \\\n",
       "0       1955.0          2005  18810 Densmore Ave N  Shoreline  WA 98133   \n",
       "1       1921.0             0       709 W Blaine St    Seattle  WA 98119   \n",
       "...        ...           ...                   ...        ...       ...   \n",
       "4598    1974.0             0     5148 S Creston St    Seattle  WA 98178   \n",
       "4599    1990.0             0     18717 SE 258th St  Covington  WA 98042   \n",
       "\n",
       "     country  \n",
       "0        USA  \n",
       "1        USA  \n",
       "...      ...  \n",
       "4598     USA  \n",
       "4599     USA  \n",
       "\n",
       "[4600 rows x 18 columns]"
      ]
     },
     "execution_count": 535,
     "metadata": {},
     "output_type": "execute_result"
    }
   ],
   "source": [
    "df = pd.read_csv(\"data.csv\")\n",
    "df"
   ]
  },
  {
   "cell_type": "code",
   "execution_count": 536,
   "id": "50683ccd",
   "metadata": {},
   "outputs": [],
   "source": [
    "\n",
    "def fillNaObjMode(cols):\n",
    "    for i in cols:\n",
    "        df[i] = df[i].fillna(df[i].mode()[0])\n",
    "\n",
    "columns = ['street','city','statezip','country']\n",
    "fillNaObjMode(columns)"
   ]
  },
  {
   "cell_type": "code",
   "execution_count": 537,
   "id": "99647c42",
   "metadata": {},
   "outputs": [],
   "source": [
    "def fillNaIntMode(cols):\n",
    "    for i in cols:\n",
    "        df[i] = df[i].fillna(df[i].mode()[0])\n",
    "\n",
    "columns = ['bedrooms','bathrooms','floors','waterfront','view','yr_built']\n",
    "fillNaIntMode(columns)"
   ]
  },
  {
   "cell_type": "code",
   "execution_count": 538,
   "id": "e1b36898",
   "metadata": {},
   "outputs": [],
   "source": [
    "def fillNaFloat(cols):\n",
    "    for i in cols:\n",
    "        df[i] = df[i].fillna(df[i].mean())\n",
    "\n",
    "columns = ['price','sqft_living','sqft_lot','sqft_above','sqft_basement']\n",
    "fillNaFloat(columns)"
   ]
  },
  {
   "cell_type": "code",
   "execution_count": 539,
   "id": "0d43dab6",
   "metadata": {},
   "outputs": [],
   "source": [
    "\n",
    "\n",
    "def convertFloatintoInt(cols):\n",
    "    for i in cols:\n",
    "        df[i] = df[i].astype('int64')\n",
    "\n",
    "columns = ['bedrooms','bathrooms','floors','waterfront','view','yr_built','price','sqft_living','sqft_lot','sqft_above','sqft_basement']\n",
    "convertFloatintoInt(columns)"
   ]
  },
  {
   "cell_type": "code",
   "execution_count": 540,
   "id": "563e92c9",
   "metadata": {},
   "outputs": [
    {
     "data": {
      "text/plain": [
       "np.int64(0)"
      ]
     },
     "execution_count": 540,
     "metadata": {},
     "output_type": "execute_result"
    }
   ],
   "source": [
    "df['price'].min()"
   ]
  },
  {
   "cell_type": "code",
   "execution_count": 541,
   "id": "10b3c0f4",
   "metadata": {},
   "outputs": [],
   "source": [
    "def dataEncoder(cols):\n",
    "    for i in cols:\n",
    "        dataLabelEncoder = LabelEncoder()\n",
    "        df[i] = dataLabelEncoder.fit_transform(df[i])\n",
    "\n",
    "columns = ['city','statezip']\n",
    "dataEncoder(columns)"
   ]
  },
  {
   "cell_type": "code",
   "execution_count": 542,
   "id": "6b605b11",
   "metadata": {},
   "outputs": [],
   "source": [
    "df = df.drop('date', axis=1)\n",
    "df = df.drop('street', axis=1)\n",
    "df = df.drop('city', axis=1)\n",
    "df = df.drop('country', axis=1)\n",
    "df = df.drop('statezip', axis=1)\n"
   ]
  },
  {
   "cell_type": "code",
   "execution_count": 543,
   "id": "8a8a8a23",
   "metadata": {},
   "outputs": [],
   "source": [
    "price_range = [0, 200000, 1000000,5000000, 30000000] \n",
    "labels = ['low', 'medium', 'high','very high']  \n",
    "df['price_category'] = pd.cut(df['price'], bins=price_range, labels=labels, right=False)"
   ]
  },
  {
   "cell_type": "code",
   "execution_count": 544,
   "id": "094b9b91",
   "metadata": {},
   "outputs": [],
   "source": [
    "df.to_csv(r'encoded-data.csv', index = False, header = True)"
   ]
  },
  {
   "cell_type": "markdown",
   "id": "60b50e64",
   "metadata": {},
   "source": [
    "# Train-Test Split"
   ]
  },
  {
   "cell_type": "code",
   "execution_count": 545,
   "id": "fad95174",
   "metadata": {},
   "outputs": [],
   "source": [
    "\n",
    "trainData, testData = train_test_split(df, test_size=0.2, shuffle=False)"
   ]
  },
  {
   "cell_type": "code",
   "execution_count": 546,
   "id": "1955557b",
   "metadata": {},
   "outputs": [],
   "source": [
    "\n",
    "train_x = trainData.iloc()[:, :-1]\n",
    "test_x  = testData.iloc()[:, :-1]\n",
    "\n",
    "train_y = trainData.iloc()[:, -1]\n",
    "test_y  = testData.iloc()[:, -1]\n"
   ]
  },
  {
   "cell_type": "markdown",
   "id": "2bb1c107",
   "metadata": {},
   "source": [
    "# Model Apply / Classifier Application"
   ]
  },
  {
   "cell_type": "code",
   "execution_count": 547,
   "id": "d85b12f9",
   "metadata": {},
   "outputs": [
    {
     "name": "stdout",
     "output_type": "stream",
     "text": [
      "SVC()\n"
     ]
    }
   ],
   "source": [
    "\n",
    "model = SVC()\n",
    "model.fit(train_x, train_y)\n",
    "\n",
    "print(model)"
   ]
  },
  {
   "cell_type": "code",
   "execution_count": 548,
   "id": "123679f9",
   "metadata": {},
   "outputs": [],
   "source": [
    "# Saving Trained Model\n",
    "pickle.dump(model, open('model_svc.pkl', 'wb'))"
   ]
  },
  {
   "cell_type": "code",
   "execution_count": 549,
   "id": "7cd2c5b7",
   "metadata": {},
   "outputs": [],
   "source": [
    "# Load saved Model\n",
    "model = pickle.load(open('model_svc.pkl', 'rb'))"
   ]
  },
  {
   "cell_type": "code",
   "execution_count": 550,
   "id": "a5a45880",
   "metadata": {},
   "outputs": [],
   "source": [
    "model_predictions = model.predict(test_x)"
   ]
  },
  {
   "cell_type": "code",
   "execution_count": 551,
   "id": "5fe1e9bb",
   "metadata": {},
   "outputs": [
    {
     "name": "stdout",
     "output_type": "stream",
     "text": [
      "-- Model Accuracy Score: 0.979\n"
     ]
    }
   ],
   "source": [
    "model_accuracy_score = accuracy_score(test_y, model_predictions)\n",
    "\n",
    "print(\"-- Model Accuracy Score: \", end='')\n",
    "print(round(model_accuracy_score,3))"
   ]
  },
  {
   "cell_type": "code",
   "execution_count": 552,
   "id": "ab800199",
   "metadata": {},
   "outputs": [],
   "source": [
    "testdata_predict = testData.copy(deep=True)\n",
    "pd.options.mode.chained_assignment = None\n",
    "\n",
    "testdata_predict['Prediction'] = model_predictions"
   ]
  },
  {
   "cell_type": "code",
   "execution_count": 553,
   "id": "90855321",
   "metadata": {},
   "outputs": [
    {
     "name": "stdout",
     "output_type": "stream",
     "text": [
      "-- Model Accuracy Score: 0.979\n"
     ]
    }
   ],
   "source": [
    "model_accuracy_score = accuracy_score(testdata_predict['price_category'], testdata_predict['Prediction'])\n",
    "\n",
    "print(\"-- Model Accuracy Score: \", end='')\n",
    "print(round(model_accuracy_score,3))"
   ]
  },
  {
   "cell_type": "code",
   "execution_count": null,
   "id": "7c179dad",
   "metadata": {},
   "outputs": [],
   "source": []
  }
 ],
 "metadata": {
  "kernelspec": {
   "display_name": "Python 3",
   "language": "python",
   "name": "python3"
  },
  "language_info": {
   "codemirror_mode": {
    "name": "ipython",
    "version": 3
   },
   "file_extension": ".py",
   "mimetype": "text/x-python",
   "name": "python",
   "nbconvert_exporter": "python",
   "pygments_lexer": "ipython3",
   "version": "3.12.2"
  }
 },
 "nbformat": 4,
 "nbformat_minor": 5
}
